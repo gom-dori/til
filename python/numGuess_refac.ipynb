{
 "cells": [
  {
   "cell_type": "code",
   "execution_count": null,
   "metadata": {},
   "outputs": [],
   "source": [
    "#### import random\n",
    "import random\n",
    "\n",
    "####choose the answer randomly\n",
    "answer = random.randint(1,100)\n",
    "#print (answer)\n",
    "\n",
    "####variables\n",
    "maxNum = 100\n",
    "minNum = 1\n",
    "coin = 5\n",
    "\n",
    "####coincount\n",
    "def coinCount(a):\n",
    "    if a == 0:\n",
    "        print(\"no more coins\")\n",
    "    else:\n",
    "        print(\"(%d coins left)\" % (a-1))\n",
    "\n",
    "####get user input\n",
    "user_name = input(\"Hi, What is your name? \")\n",
    "guess = eval(input(\"Hi, %s. Plz guess the INTEGER!!! (1-100) \" % (user_name)))\n",
    "coinCount(coin)\n",
    "\n",
    "####out put\n",
    "while coin > 1:\n",
    "    if answer == guess:\n",
    "        print(\"You are correct! It's amazing\")\n",
    "        print(\"YOU WON THE GAME\")\n",
    "        break\n",
    "    elif answer > guess:\n",
    "        minNum = guess + 1\n",
    "        coin = coin - 1\n",
    "        guess = int(input(\"too small! Plz guess another INTEGER!!! (%d ~ %d) \" % (minNum, maxNum)))\n",
    "        coinCount(coin)\n",
    "    elif answer < guess:\n",
    "        maxNum = guess - 1\n",
    "        coin = coin - 1\n",
    "        guess = eval(input(\"too big! Plz guess another INTEGER!!! (%d ~ %d) \" % (minNum, maxNum)))\n",
    "        coinCount(coin)\n",
    "\n",
    "gameover = print(\"GAME OVER, the answer was %d \" % (answer))"
   ]
  },
  {
   "cell_type": "code",
   "execution_count": null,
   "metadata": {
    "collapsed": true
   },
   "outputs": [],
   "source": []
  },
  {
   "cell_type": "code",
   "execution_count": null,
   "metadata": {
    "collapsed": true
   },
   "outputs": [],
   "source": []
  }
 ],
 "metadata": {
  "kernelspec": {
   "display_name": "Python 3",
   "language": "python",
   "name": "python3"
  },
  "language_info": {
   "codemirror_mode": {
    "name": "ipython",
    "version": 3
   },
   "file_extension": ".py",
   "mimetype": "text/x-python",
   "name": "python",
   "nbconvert_exporter": "python",
   "pygments_lexer": "ipython3",
   "version": "3.6.1"
  }
 },
 "nbformat": 4,
 "nbformat_minor": 2
}
