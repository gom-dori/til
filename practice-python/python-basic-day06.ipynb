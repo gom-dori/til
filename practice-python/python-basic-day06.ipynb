{
 "cells": [
  {
   "cell_type": "code",
   "execution_count": 1,
   "metadata": {
    "collapsed": true
   },
   "outputs": [],
   "source": [
    "#1. map\n",
    "#2. filter\n",
    "#3. reduce\n",
    "#4. 게으른 연산을 해서 성능이 좋다 (lazy evaluation)\n",
    "#5. decorator\n",
    "#6. call by reference."
   ]
  },
  {
   "cell_type": "code",
   "execution_count": 6,
   "metadata": {},
   "outputs": [
    {
     "name": "stdout",
     "output_type": "stream",
     "text": [
      "1 2 3 4 "
     ]
    }
   ],
   "source": [
    "#1 map\n",
    "\n",
    "#map(a, b) #b에 순회가능한 객체를 넣는다. \n"
   ]
  },
  {
   "cell_type": "code",
   "execution_count": 7,
   "metadata": {},
   "outputs": [
    {
     "name": "stdout",
     "output_type": "stream",
     "text": [
      "1 2 3 4 "
     ]
    }
   ],
   "source": [
    "#literable object(순회 가능한 객체) = for로 돌릴수 있다.\n",
    "li = [1, 2, 3, 4] # list, string, dictionary, tuple\n",
    "for e in li:\n",
    "    print(e,end = ' ')"
   ]
  },
  {
   "cell_type": "code",
   "execution_count": 13,
   "metadata": {},
   "outputs": [
    {
     "name": "stdout",
     "output_type": "stream",
     "text": [
      "{'a': 1, 'b': 2, 'c': 3, 'd': 4}\n"
     ]
    }
   ],
   "source": [
    "# dictionary 참고\n",
    "key = ('a', 'b', 'c', 'd',)\n",
    "value = [1, 2, 3, 4]\n",
    "# dict를 만들고싶다.\n",
    "\n",
    "# dictionary comprehensions\n",
    "#dict01 = {k:v for k,v in zip(key,value)}\n",
    "\n",
    "# dict()\n",
    "dict01 = dict(zip(key,value))\n",
    "\n",
    "print(dict01)\n",
    "# z = zip(key, value) # z = 제너레이터(generator)이다.\n",
    "# next()로 하나 하나 호출해본다. 순회가 끝나면 에러가 뜬데 = 제너레이터의 정의"
   ]
  },
  {
   "cell_type": "code",
   "execution_count": 19,
   "metadata": {},
   "outputs": [
    {
     "data": {
      "text/plain": [
       "1"
      ]
     },
     "execution_count": 19,
     "metadata": {},
     "output_type": "execute_result"
    }
   ],
   "source": [
    "lis = [1,2,3,4,5,]\n",
    "#for i in lis:\n",
    "#여기서 lis는 위의 lis의 리스트가 아니라 iterator로 변환되어 들어간다.\n",
    "#interator가 더 큰 범위. generator는 iterator의 일종.\n",
    "#왜냐하면 iterator는 게으른 연산을 하기 때문. = 성능이 좋다.\n",
    "lisit = iter(lis)\n",
    "#next(lisit)"
   ]
  },
  {
   "cell_type": "code",
   "execution_count": 22,
   "metadata": {},
   "outputs": [
    {
     "name": "stdout",
     "output_type": "stream",
     "text": [
      "<map object at 0x05C8AEF0>\n"
     ]
    }
   ],
   "source": [
    "#map() = 수학책에서 함수를 설명할때 A에서 B로 매핑되는 이미지를 연상하자.\n",
    "#map (a, b) # a = fuction, b = iterable obj.\n",
    "\n",
    "lis = [1,2,3,4,]\n",
    "def mul_10(x):\n",
    "    return x * 10\n",
    "\n",
    "m = map(mul_10, lis)"
   ]
  },
  {
   "cell_type": "code",
   "execution_count": 25,
   "metadata": {},
   "outputs": [
    {
     "name": "stdout",
     "output_type": "stream",
     "text": [
      "10\n",
      "20\n",
      "30\n",
      "40\n"
     ]
    }
   ],
   "source": [
    "m = map(lambda x:x*10, li)\n",
    "m\n",
    "for lis in m:\n",
    "    print(lis)"
   ]
  },
  {
   "cell_type": "code",
   "execution_count": 28,
   "metadata": {},
   "outputs": [
    {
     "data": {
      "text/plain": [
       "['a', 'b', 'c', 'd']"
      ]
     },
     "execution_count": 28,
     "metadata": {},
     "output_type": "execute_result"
    }
   ],
   "source": [
    "#keys(, values(), items() : view obj.\n",
    "#view obj = 동적이다 = dict01이 업데이트 되면 자동으로 업데이트 됨.\n",
    "list(dict01.keys())"
   ]
  },
  {
   "cell_type": "code",
   "execution_count": 34,
   "metadata": {},
   "outputs": [
    {
     "name": "stdout",
     "output_type": "stream",
     "text": [
      "func is exceuted\n"
     ]
    },
    {
     "data": {
      "text/plain": [
       "1"
      ]
     },
     "execution_count": 34,
     "metadata": {},
     "output_type": "execute_result"
    }
   ],
   "source": [
    "#lazy evaluation\n",
    "#필요할 때 마다 연산을 한다.\n",
    "#next함수를 호출할 수 있는 시기를 자기가 결정할 수 있다.\n",
    "def func(a):\n",
    "    print(\"func is exceuted\")\n",
    "    return a ** 2\n",
    "\n",
    "lis01 = [1,2,3,4,]\n",
    "\n",
    "m = map(func, lis01)\n",
    "next(m)"
   ]
  },
  {
   "cell_type": "code",
   "execution_count": 39,
   "metadata": {},
   "outputs": [
    {
     "name": "stdout",
     "output_type": "stream",
     "text": [
      "2,5,"
     ]
    }
   ],
   "source": [
    "#filter\n",
    "#조건이 참이면 take, 조건이 거짓이면 not take\n",
    "\n",
    "lis01 = [2,-1,5,-7,]\n",
    "result = filter(lambda x:x > 0, lis01)\n",
    "for e in result:\n",
    "    print(e, end = ',')"
   ]
  },
  {
   "cell_type": "code",
   "execution_count": 40,
   "metadata": {},
   "outputs": [
    {
     "name": "stdout",
     "output_type": "stream",
     "text": [
      "a > 0\n"
     ]
    }
   ],
   "source": [
    "#삼항 연산자\n",
    "a = 10\n",
    "# if a > 0:\n",
    "#     print(\"a > 0\")\n",
    "# else: (\"a < 0\")\n",
    "\n",
    "print(\"a > 0\" if a > 0 else \"a < 0\") \n",
    "# 참일때 값 (조건식) (나머지는) 나머지 값"
   ]
  },
  {
   "cell_type": "code",
   "execution_count": 69,
   "metadata": {},
   "outputs": [
    {
     "data": {
      "text/plain": [
       "'a == 0'"
      ]
     },
     "execution_count": 69,
     "metadata": {},
     "output_type": "execute_result"
    }
   ],
   "source": [
    "# 삼항 연산자 2\n",
    "# a > 0\n",
    "# a < 0\n",
    "# a == 0\n",
    "a = 0\n",
    "\"a > 0\" if a > 0 else (\"a == 0\" if a == 0 else \"a < 0\")"
   ]
  },
  {
   "cell_type": "code",
   "execution_count": 45,
   "metadata": {},
   "outputs": [
    {
     "name": "stdout",
     "output_type": "stream",
     "text": [
      "['양수', '0', '양수', '음수']\n"
     ]
    }
   ],
   "source": [
    "# 양수이면 양수 출력, 음수이면 음수 출력, 0이면 0 출력\n",
    "lis01 = [2,0,5,-7]\n",
    "result = list(map(lambda x:\n",
    "             '양수' if x > 0 \n",
    "             else (\n",
    "             '음수' if x < 0\n",
    "             else '0')\n",
    "            ,lis01))\n",
    "print(result)"
   ]
  },
  {
   "cell_type": "code",
   "execution_count": 59,
   "metadata": {},
   "outputs": [
    {
     "data": {
      "text/plain": [
       "[4, 25]"
      ]
     },
     "execution_count": 59,
     "metadata": {},
     "output_type": "execute_result"
    }
   ],
   "source": [
    "# 양수만 뽑아서 제곱한 값.\n",
    "lis01 = [2,0,5,-7]\n",
    "def func(a):\n",
    "    return a ** 2\n",
    "\n",
    "#result = list(map(func ,filter(lambda x:x > 0, lis01)))\n",
    "result = list(map(lambda x: x ** 2 ,filter(lambda x:x > 0, lis01)))\n",
    "\n",
    "#filter로 나온것은 iterable이기 때문에 map의 두 번째 객체로 들어갈 수 있다.\n",
    "result"
   ]
  },
  {
   "cell_type": "code",
   "execution_count": 63,
   "metadata": {},
   "outputs": [
    {
     "data": {
      "text/plain": [
       "[3, 5, 7, 9]"
      ]
     },
     "execution_count": 63,
     "metadata": {},
     "output_type": "execute_result"
    }
   ],
   "source": [
    "# map은 첫 인자만 함수이고 뒤로 쭉 가변인자를 받을 수 있다.\n",
    "\n",
    "a = [1,2,3,4,]\n",
    "b = [2,3,4,5,]\n",
    "\n",
    "result = list(map(lambda x, y: x + y, a, b))\n",
    "result"
   ]
  },
  {
   "cell_type": "code",
   "execution_count": 65,
   "metadata": {},
   "outputs": [
    {
     "data": {
      "text/plain": [
       "15"
      ]
     },
     "execution_count": 65,
     "metadata": {},
     "output_type": "execute_result"
    }
   ],
   "source": [
    "# reduce, 하나하나 치환시켜 줄여나간다.\n",
    "# reduce(함수, 리터러블, 기본값)\n",
    "from functools import reduce\n",
    "lis01 = [1,2,3,4,5,]\n",
    "result = reduce(lambda a,b: a+b, lis01)\n",
    "result"
   ]
  },
  {
   "cell_type": "code",
   "execution_count": 68,
   "metadata": {},
   "outputs": [
    {
     "data": {
      "text/plain": [
       "16"
      ]
     },
     "execution_count": 68,
     "metadata": {},
     "output_type": "execute_result"
    }
   ],
   "source": [
    "# 최대값 산출\n",
    "lis01 = [5,8,8,-1,-5,16,2,7]\n",
    "result = reduce(lambda a,b: a if a > b else b, lis01)\n",
    "result"
   ]
  },
  {
   "cell_type": "code",
   "execution_count": 104,
   "metadata": {},
   "outputs": [
    {
     "data": {
      "text/plain": [
       "{'a': 3, 'b': 2, 'c': 1}"
      ]
     },
     "execution_count": 104,
     "metadata": {},
     "output_type": "execute_result"
    }
   ],
   "source": [
    "#우리의 목표\n",
    "from functools import reduce\n",
    "lis01 = ['a','b','c','a','b','a']\n",
    "# result = {'a': 3, 'b': 2, 'c':1}\n",
    "\n",
    "\n",
    "res = reduce(lambda r, ch: r.update({ch:r.get(ch,0)+1}) or r, lis01, {})\n",
    "#res = reduce(lambda result, word: result.update({word:result.get(word,0)+1}) or result, lis01, {})\n",
    "print(res)"
   ]
  },
  {
   "cell_type": "code",
   "execution_count": 82,
   "metadata": {},
   "outputs": [
    {
     "data": {
      "text/plain": [
       "{'a': 1, 'b': 2, 'c': 3, 'd': 4, 'e': 5, 'f': 10}"
      ]
     },
     "execution_count": 82,
     "metadata": {},
     "output_type": "execute_result"
    }
   ],
   "source": [
    "dic = {'a': 1, 'b': 2, 'c': 3,}\n",
    "dic['d'] = 4\n",
    "dic.update({'e': 5, 'f' : 10}) # 여러개를 한 방에 넣을수도, 값을 변경할수도 있다.\n",
    "dic"
   ]
  },
  {
   "cell_type": "code",
   "execution_count": 76,
   "metadata": {},
   "outputs": [
    {
     "data": {
      "text/plain": [
       "1"
      ]
     },
     "execution_count": 76,
     "metadata": {},
     "output_type": "execute_result"
    }
   ],
   "source": [
    "# dictionary에서 value값 찾기\n",
    "\n",
    "dic['a'] \n",
    "#key가 없을시 에러가 난다.\n",
    "dic.get('a', 10)\n",
    "# a가 있다면 a로 반응. a가 없다면 10(default = null)으로 반응.\n",
    "dic.setdefault('a', 50) \n",
    "#a가 있다면 a로 반응. a가 없다면  a를 만들고 10(default = null)으로 반응."
   ]
  },
  {
   "cell_type": "code",
   "execution_count": 83,
   "metadata": {},
   "outputs": [
    {
     "data": {
      "text/plain": [
       "[6, 7]"
      ]
     },
     "execution_count": 83,
     "metadata": {},
     "output_type": "execute_result"
    }
   ],
   "source": [
    "# and 와 or\n",
    "[1,2,] or [3,4,] # 진리값이 나오지 않고 [1,2,]가 나온다.\n",
    "# or 에서는 모든게 거짓이여야 거짓, [1,2]가 참이므로 뒤를 볼 필요가 없다. 그러므로 [1,2,]\n",
    "[3,4] and [6,7,]\n",
    "# and는 모든게 참이여야 참. 마지막에 참고해야 할 요소는 [6,7,] 그러므로 [6,7,]\n",
    "# python 인터프리터는 마지막 참조한 것만 나타낸다.\n",
    "\n",
    "# Python에서 false로 취급하는 것 들.\n",
    "# [빈 리스트], {빈 딕셔너리}, '빈 스트링' , (빈 튜플), None "
   ]
  },
  {
   "cell_type": "code",
   "execution_count": 89,
   "metadata": {},
   "outputs": [
    {
     "data": {
      "text/plain": [
       "{'a': 1, 'b': 2, 'c': 3, 'd': 4}"
      ]
     },
     "execution_count": 89,
     "metadata": {},
     "output_type": "execute_result"
    }
   ],
   "source": [
    "# python에서 함수:식 , 반드시 뭔가를 return.\n",
    "dic = {'a': 1, 'b': 2, 'c': 3,}\n",
    "#dic = dic.update({'d':4}) # return값이 없으므로 None, 진리값은 false\n",
    "dic = dic.update({'d':4}) or dic # 앞 값이 false. 마지막 참조값은 dic. 그러므로 dic 반환.\n",
    "dic"
   ]
  },
  {
   "cell_type": "code",
   "execution_count": 92,
   "metadata": {},
   "outputs": [
    {
     "data": {
      "text/plain": [
       "50"
      ]
     },
     "execution_count": 92,
     "metadata": {},
     "output_type": "execute_result"
    }
   ],
   "source": [
    "# reduce의 초기값\n",
    "# reduce(a,b,default) #defualt가 말 그대로 초기값이 된다.\n",
    "\n",
    "lis01 = [5,8,8,-1,-5,16,2,7]\n",
    "result = reduce(lambda a,b,: a if a > b else b, lis01, 50) # 50이 맨 처음 a 대신 들어간다.\n",
    "result"
   ]
  },
  {
   "cell_type": "code",
   "execution_count": 112,
   "metadata": {},
   "outputs": [
    {
     "name": "stdout",
     "output_type": "stream",
     "text": [
      "things\n"
     ]
    }
   ],
   "source": [
    "# decorator\n",
    "# 함수에 기존 함수의 기능을 추가하고 싶을 때 사용\n",
    "\n",
    "def outer(func):\n",
    "    def inner(*args, **kwargs):\n",
    "        print(\"things\") #기능들을 여기에 다 넣는다.\n",
    "        return func(*args, **kwargs)\n",
    "    return inner\n",
    "\n",
    "@outer\n",
    "def adder(a,b):\n",
    "    return a + b\n",
    "\n",
    "c = adder (3,5)\n"
   ]
  },
  {
   "cell_type": "code",
   "execution_count": 134,
   "metadata": {
    "collapsed": true
   },
   "outputs": [],
   "source": [
    "#추가하고싶은 기능 : 함수의 콜 횟수\n",
    "def call_count(func):\n",
    "    cnt = 0\n",
    "    def inner (*args, **kwargs):\n",
    "        nonlocal cnt\n",
    "        cnt = cnt + 1\n",
    "        print(\"call number : {}\".format(cnt))\n",
    "        return func(*arg, **kwargs)\n",
    "    return inner\n",
    "\n",
    "@call_count\n",
    "def adder(a,b):\n",
    "    return a + b\n",
    "\n",
    "for i in range(1,11):\n",
    "    a = i + 1\n",
    "    b = i + 2\n",
    "    "
   ]
  },
  {
   "cell_type": "code",
   "execution_count": 129,
   "metadata": {},
   "outputs": [
    {
     "name": "stdout",
     "output_type": "stream",
     "text": [
      "elapsed time: 2.445 sec\n"
     ]
    },
    {
     "data": {
      "text/plain": [
       "9"
      ]
     },
     "execution_count": 129,
     "metadata": {},
     "output_type": "execute_result"
    }
   ],
   "source": [
    "import time\n",
    "time.time()\n",
    "\n",
    "def timer(func):\n",
    "    def inner(*args, **kwargs):\n",
    "        start = time.time()\n",
    "        ret = func(*args, **kwargs)\n",
    "        elapsed = round(time.time() - start, 3)\n",
    "        print('elapsed time: {} sec'.format(elapsed))\n",
    "        return ret\n",
    "    return inner\n",
    "\n",
    "@timer\n",
    "def adder(a,b):\n",
    "    time.sleep(2.44452341)\n",
    "    return a + b\n",
    "\n",
    "adder(4,5)"
   ]
  },
  {
   "cell_type": "code",
   "execution_count": 132,
   "metadata": {
    "collapsed": true
   },
   "outputs": [],
   "source": [
    "import time\n",
    "#time.sleep(n) = 커털 타임이 n초 멈춤\n",
    "#time.time() = \n",
    "#round(a, b) = a숫자를 소숫점 아래 b 까지 반올림"
   ]
  },
  {
   "cell_type": "code",
   "execution_count": null,
   "metadata": {
    "collapsed": true
   },
   "outputs": [],
   "source": [
    "@call_count\n",
    "@timer"
   ]
  }
 ],
 "metadata": {
  "kernelspec": {
   "display_name": "Python 3",
   "language": "python",
   "name": "python3"
  },
  "language_info": {
   "codemirror_mode": {
    "name": "ipython",
    "version": 3
   },
   "file_extension": ".py",
   "mimetype": "text/x-python",
   "name": "python",
   "nbconvert_exporter": "python",
   "pygments_lexer": "ipython3",
   "version": "3.6.1"
  }
 },
 "nbformat": 4,
 "nbformat_minor": 2
}
