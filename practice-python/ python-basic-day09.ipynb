{
 "cells": [
  {
   "cell_type": "code",
   "execution_count": 8,
   "metadata": {
    "collapsed": true
   },
   "outputs": [],
   "source": [
    "# class : account\n",
    "# normally the first letter of Class is Capital letter\n",
    "# class = 탬플릿 혹은 붕어빵 틀\n",
    "\n",
    "class Account:\n",
    "    #class member, class method : global variable을 대체\n",
    "    #생성자\n",
    "    interest_rate = 7.0 # 모든객체가 공유하는 데이터 = class member\n",
    "    name = 'Good life'\n",
    "    kind = 'demanding deposit'\n",
    "    \n",
    "    #class method는 객체가 생성되기 전에도 호출이 가능함\n",
    "    @classmethod\n",
    "    def get_account_info(cls):\n",
    "        return cls.interest_rate, cls.name, cls.kind\n",
    "    \n",
    "    #멤버의 초기화\n",
    "    def __init__(self, name, money):\n",
    "        # instance member : (Account와)연관있는 변수가 된다\n",
    "        self.user = name\n",
    "        self.balance = money\n",
    "    #소멸자\n",
    "    #주 목적은 메모리의 해제\n",
    "    #거의 쓰이지 않음\n",
    "    def __del__(self):\n",
    "        pass\n",
    "    #instance method : 연관있는 함수들\n",
    "    def deposit(self, money):\n",
    "        if money <= 0:\n",
    "            return None\n",
    "        else:\n",
    "            self.balance += money\n",
    "            return self.balance\n",
    "        \n",
    "    def withdraw(self, money):\n",
    "        '''\n",
    "        obj.withdraw(money) -> bool\n",
    "        '''\n",
    "        if money <= self.balance:\n",
    "            self.balance -= money\n",
    "            return True\n",
    "        else:\n",
    "            return False\n",
    "        \n",
    "    #message passing\n",
    "    def transfer(self, other, money):\n",
    "        res = self.withdraw(money)\n",
    "        if res:\n",
    "            # 다른 객체의 함수를 호출해서 내부 정보를 바꾼다.\n",
    "            ################# OOP 패러다임에서 매우 중요한 개념\n",
    "            other.deposit(money)\n",
    "            return True\n",
    "        else:\n",
    "            return False\n",
    "        \n",
    "        \n",
    "        \n",
    "    def __str__(self):\n",
    "        return '{} : {}'.format(self.user, self.balance)"
   ]
  },
  {
   "cell_type": "code",
   "execution_count": null,
   "metadata": {},
   "outputs": [],
   "source": [
    "my_acc = Account('greg', 5000)\n",
    "your_acc = Account('June', 1000)"
   ]
  },
  {
   "cell_type": "code",
   "execution_count": null,
   "metadata": {},
   "outputs": [],
   "source": [
    "print(my_acc)"
   ]
  },
  {
   "cell_type": "code",
   "execution_count": null,
   "metadata": {},
   "outputs": [],
   "source": [
    "# object로 method 호추\n",
    "\n",
    "my_acc.deposit(2000)\n",
    "your_acc.deposit(3000)\n",
    "\n",
    "print(my_acc,'/' ,your_acc)\n",
    "# my_acc.에 self인 이름 greg과 balance 5000이 들어있다."
   ]
  },
  {
   "cell_type": "code",
   "execution_count": null,
   "metadata": {},
   "outputs": [],
   "source": [
    "my_acc.transfer(your_acc, 300)\n",
    "print(my_acc)"
   ]
  },
  {
   "cell_type": "code",
   "execution_count": null,
   "metadata": {},
   "outputs": [],
   "source": [
    "print(my_acc,'/' ,your_acc)"
   ]
  },
  {
   "cell_type": "code",
   "execution_count": 2,
   "metadata": {
    "collapsed": true
   },
   "outputs": [],
   "source": [
    "# 객체의 method 호출\n",
    "# 일반적으로 object.function() >> eg. my_acc.deposit(2000) <<< type = method\n",
    "\n",
    "# 클래스를 통해 호출도 가능 >>> eg. Account.deposit(my_acc, 200) <<< type = function\n",
    "# 하지만 잘 쓰이지 않는 방식"
   ]
  },
  {
   "cell_type": "code",
   "execution_count": 4,
   "metadata": {},
   "outputs": [
    {
     "data": {
      "text/plain": [
       "7.0"
      ]
     },
     "execution_count": 4,
     "metadata": {},
     "output_type": "execute_result"
    }
   ],
   "source": [
    "Account.interest_rate"
   ]
  },
  {
   "cell_type": "code",
   "execution_count": 9,
   "metadata": {},
   "outputs": [
    {
     "data": {
      "text/plain": [
       "(7.0, 'Good life', 'demanding deposit')"
      ]
     },
     "execution_count": 9,
     "metadata": {},
     "output_type": "execute_result"
    }
   ],
   "source": [
    "Account.get_account_info()"
   ]
  },
  {
   "cell_type": "code",
   "execution_count": null,
   "metadata": {
    "collapsed": true
   },
   "outputs": [],
   "source": []
  }
 ],
 "metadata": {
  "kernelspec": {
   "display_name": "Python 3",
   "language": "python",
   "name": "python3"
  },
  "language_info": {
   "codemirror_mode": {
    "name": "ipython",
    "version": 3
   },
   "file_extension": ".py",
   "mimetype": "text/x-python",
   "name": "python",
   "nbconvert_exporter": "python",
   "pygments_lexer": "ipython3",
   "version": "3.6.1"
  }
 },
 "nbformat": 4,
 "nbformat_minor": 2
}
