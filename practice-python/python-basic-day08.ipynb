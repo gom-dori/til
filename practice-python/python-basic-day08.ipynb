{
 "cells": [
  {
   "cell_type": "code",
   "execution_count": 6,
   "metadata": {},
   "outputs": [
    {
     "name": "stdout",
     "output_type": "stream",
     "text": [
      "True\n",
      "False\n"
     ]
    }
   ],
   "source": [
    "## call by reference\n",
    "\n",
    "a = 1024\n",
    "b = 1024\n",
    "\n",
    "print(a == b)\n",
    "print(a is b) ## bcz hex(id(a)) != hex(id(b)), 메모리 주소 공간이 다르다"
   ]
  },
  {
   "cell_type": "code",
   "execution_count": 7,
   "metadata": {},
   "outputs": [
    {
     "name": "stdout",
     "output_type": "stream",
     "text": [
      "True\n",
      "True\n"
     ]
    }
   ],
   "source": [
    "a = 1\n",
    "b = 1\n",
    "\n",
    "print (a == b)\n",
    "print (a is b)\n"
   ]
  },
  {
   "cell_type": "code",
   "execution_count": 11,
   "metadata": {},
   "outputs": [
    {
     "name": "stdout",
     "output_type": "stream",
     "text": [
      "x is a :  True\n",
      "x is a : False\n"
     ]
    }
   ],
   "source": [
    "## call by assignment\n",
    "\n",
    "def func(x, v):\n",
    "    print('x is a : ', x is a)\n",
    "    x = v\n",
    "    print('x is a :', x is a)\n",
    "    \n",
    "a = 10\n",
    "func(a, 20)"
   ]
  },
  {
   "cell_type": "code",
   "execution_count": 12,
   "metadata": {},
   "outputs": [
    {
     "name": "stdout",
     "output_type": "stream",
     "text": [
      "data is li? : True\n",
      "data is li? : True\n"
     ]
    }
   ],
   "source": [
    "# call by assignment (list)\n",
    "\n",
    "def func(data, idx, value):\n",
    "    print('data is li? :', data is li) #list 자체가 아니라 요소로 변경, mutable\n",
    "    data[idx] = value\n",
    "    print('data is li? :', data is li)\n",
    "\n",
    "li = [1,2,3,4,]\n",
    "func(li, 0, 1024)"
   ]
  },
  {
   "cell_type": "code",
   "execution_count": 14,
   "metadata": {},
   "outputs": [
    {
     "name": "stdout",
     "output_type": "stream",
     "text": [
      "data is li? : True\n",
      "data is li? : False\n",
      "[10, 20, 30, 40]\n",
      "[1, 2, 3, 4]\n"
     ]
    }
   ],
   "source": [
    "# call by assignment (list)\n",
    "\n",
    "def func(data, value):\n",
    "    print('data is li? :', data is li) \n",
    "    data = value #요소가 아니라 완전 다른 값\n",
    "    print('data is li? :', data is li)\n",
    "    print(data)\n",
    "\n",
    "li = [1,2,3,4,]\n",
    "func(li,[10,20,30,40,])\n",
    "print(li)"
   ]
  },
  {
   "cell_type": "code",
   "execution_count": 15,
   "metadata": {},
   "outputs": [
    {
     "data": {
      "text/plain": [
       "b'\\x1f'"
      ]
     },
     "execution_count": 15,
     "metadata": {},
     "output_type": "execute_result"
    }
   ],
   "source": [
    "## number\n",
    "\n",
    "(31).to_bytes(1, byteorder = \"little\", signed = True)\n",
    "#signed = 맨 앞 자리를 부호로 쓸 것인가?\n",
    "#0001 1111\n"
   ]
  },
  {
   "cell_type": "code",
   "execution_count": 18,
   "metadata": {},
   "outputs": [
    {
     "name": "stdout",
     "output_type": "stream",
     "text": [
      "16909060\n",
      "b'\\x04\\x03\\x02\\x01'\n",
      "b'\\x01\\x02\\x03\\x04'\n"
     ]
    }
   ],
   "source": [
    "a = 0x01020304\n",
    "print(a)\n",
    "print(a.to_bytes(4, byteorder = \"little\", signed = True)) #요즘 상용 아키텍쳐는 모두 little로 저장\n",
    "print(a.to_bytes(4, byteorder = \"big\", signed = True))"
   ]
  },
  {
   "cell_type": "code",
   "execution_count": 24,
   "metadata": {},
   "outputs": [
    {
     "name": "stdout",
     "output_type": "stream",
     "text": [
      "s is NOT 1\n",
      "1.0000000000000007\n"
     ]
    }
   ],
   "source": [
    "# floating point\n",
    "\n",
    "a = 0.01\n",
    "s = 0.0\n",
    "\n",
    "for i in range(100):\n",
    "    s = s + a\n",
    "\n",
    "if s == 1.0: # 크다 작다는 사용 가능하다.\n",
    "    print(\"s is 1 \")\n",
    "else:\n",
    "    print(\"s is NOT 1\")\n",
    "    \n",
    "print(s)"
   ]
  },
  {
   "cell_type": "code",
   "execution_count": 25,
   "metadata": {},
   "outputs": [
    {
     "name": "stdout",
     "output_type": "stream",
     "text": [
      "s is 1.5625 \n",
      "1.5625\n"
     ]
    }
   ],
   "source": [
    "# floating point 02\n",
    "\n",
    "a = 0.015625\n",
    "s = 0.0\n",
    "\n",
    "for i in range(100):\n",
    "    s = s + a\n",
    "\n",
    "if s == 1.5625: # 왜 이런가?\n",
    "    print(\"s is 1.5625 \")\n",
    "else:\n",
    "    print(\"s is NOT 1.5625\")\n",
    "    \n",
    "print(s)"
   ]
  },
  {
   "cell_type": "code",
   "execution_count": 31,
   "metadata": {},
   "outputs": [
    {
     "data": {
      "text/plain": [
       "'A'"
      ]
     },
     "execution_count": 31,
     "metadata": {},
     "output_type": "execute_result"
    }
   ],
   "source": [
    "# unicode\n",
    "\n",
    "print(\"\\ub098\")\n",
    "print(\"\\u0041\")"
   ]
  },
  {
   "cell_type": "code",
   "execution_count": 37,
   "metadata": {},
   "outputs": [
    {
     "name": "stdout",
     "output_type": "stream",
     "text": [
      "b'\\xea\\xb0\\x80'\n",
      "b'\\xff\\xfe\\x00\\xac'\n",
      "b'\\xff\\xfe\\x00\\x00\\x00\\xac\\x00\\x00'\n",
      "b'\\xb0\\xa1'\n"
     ]
    }
   ],
   "source": [
    "# Hangul encoding\n",
    "\n",
    "print('가'.encode('utf-8'))\n",
    "print('가'.encode('utf-16'))\n",
    "print('가'.encode('utf-32'))\n",
    "print('가'.encode('cp949'))"
   ]
  },
  {
   "cell_type": "code",
   "execution_count": 44,
   "metadata": {},
   "outputs": [
    {
     "name": "stdout",
     "output_type": "stream",
     "text": [
      "112 / 121 / 116 / 104 / 111 / 110 / "
     ]
    }
   ],
   "source": [
    "c = \"python\".encode()\n",
    "for ch in c:\n",
    "    print(ch,end= \" / \")"
   ]
  },
  {
   "cell_type": "code",
   "execution_count": null,
   "metadata": {
    "collapsed": true
   },
   "outputs": [],
   "source": []
  }
 ],
 "metadata": {
  "kernelspec": {
   "display_name": "Python 3",
   "language": "python",
   "name": "python3"
  },
  "language_info": {
   "codemirror_mode": {
    "name": "ipython",
    "version": 3
   },
   "file_extension": ".py",
   "mimetype": "text/x-python",
   "name": "python",
   "nbconvert_exporter": "python",
   "pygments_lexer": "ipython3",
   "version": "3.6.1"
  }
 },
 "nbformat": 4,
 "nbformat_minor": 2
}
