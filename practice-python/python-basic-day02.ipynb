{
 "cells": [
  {
   "cell_type": "code",
   "execution_count": null,
   "metadata": {
    "collapsed": true
   },
   "outputs": [],
   "source": [
    "#Type casting\n",
    "float(3)"
   ]
  },
  {
   "cell_type": "code",
   "execution_count": null,
   "metadata": {
    "collapsed": true
   },
   "outputs": [],
   "source": [
    "int(3.4)"
   ]
  },
  {
   "cell_type": "code",
   "execution_count": null,
   "metadata": {
    "collapsed": true
   },
   "outputs": [],
   "source": [
    "int(3.7)"
   ]
  },
  {
   "cell_type": "code",
   "execution_count": null,
   "metadata": {
    "collapsed": true
   },
   "outputs": [],
   "source": [
    "str(100)"
   ]
  },
  {
   "cell_type": "code",
   "execution_count": null,
   "metadata": {
    "collapsed": true
   },
   "outputs": [],
   "source": [
    "int(\"100\")"
   ]
  },
  {
   "cell_type": "code",
   "execution_count": null,
   "metadata": {
    "collapsed": true
   },
   "outputs": [],
   "source": [
    "#user input\n",
    "\n",
    "name = input(\"Hi, What is your name? \")\n",
    "print(\"Hi, \" + str(name) + \" nice to meet you\")"
   ]
  },
  {
   "cell_type": "code",
   "execution_count": null,
   "metadata": {
    "collapsed": true
   },
   "outputs": [],
   "source": [
    "age = eval(input(\"How old are you? \"))\n",
    "type(age)"
   ]
  },
  {
   "cell_type": "code",
   "execution_count": null,
   "metadata": {
    "collapsed": true
   },
   "outputs": [],
   "source": [
    "#string formatting\n",
    "\n",
    "pen = \"pen\"\n",
    "apple = \"apple\"\n",
    "painapple = \"painapple\"\n",
    "\n",
    "print(\"I have a %s, I have an %s.\" % (pen, apple))\n",
    "print(\"I have a %s, I have a %s.\" % (pen, painapple))\n",
    "\n",
    "print(\"I have a %9s, I have an %s.\" % (pen, apple)) #9칸짜리 string을 선언\n",
    "print(\"I have a %9s, I have a %s.\" % (painapple, apple))"
   ]
  },
  {
   "cell_type": "code",
   "execution_count": null,
   "metadata": {
    "collapsed": true
   },
   "outputs": [],
   "source": [
    "#strings\n",
    "\n",
    "some_string = \"python\"\n",
    "len(some_string)"
   ]
  },
  {
   "cell_type": "code",
   "execution_count": null,
   "metadata": {
    "collapsed": true
   },
   "outputs": [],
   "source": [
    "some_string[3:5]"
   ]
  },
  {
   "cell_type": "code",
   "execution_count": null,
   "metadata": {
    "collapsed": true
   },
   "outputs": [],
   "source": [
    "some_string[1:5+1:2] "
   ]
  },
  {
   "cell_type": "code",
   "execution_count": null,
   "metadata": {
    "collapsed": true
   },
   "outputs": [],
   "source": [
    "some_string[::] == some_string[0:len(some_string):1]"
   ]
  },
  {
   "cell_type": "code",
   "execution_count": null,
   "metadata": {
    "collapsed": true
   },
   "outputs": [],
   "source": [
    "some_string[::-1]"
   ]
  },
  {
   "cell_type": "code",
   "execution_count": null,
   "metadata": {
    "collapsed": true
   },
   "outputs": [],
   "source": [
    "another_string = \"wanna eat a cheese burger\"\n",
    "another_string.count('e') # 대소문자를 구분한다!"
   ]
  },
  {
   "cell_type": "code",
   "execution_count": null,
   "metadata": {
    "collapsed": true
   },
   "outputs": [],
   "source": [
    "another_string.find('e') #제일 첫번째 것만 찾는다"
   ]
  },
  {
   "cell_type": "code",
   "execution_count": null,
   "metadata": {
    "collapsed": true
   },
   "outputs": [],
   "source": [
    "comma = \"-\"\n",
    "commadd = comma.join('python') #스트링 하나하나 사이에 변수를 넣는다\n",
    "commadd"
   ]
  },
  {
   "cell_type": "code",
   "execution_count": null,
   "metadata": {
    "collapsed": true
   },
   "outputs": [],
   "source": [
    "commadd.split('-') #리스트에 묶여 출력되게 된다"
   ]
  },
  {
   "cell_type": "code",
   "execution_count": null,
   "metadata": {
    "collapsed": true
   },
   "outputs": [],
   "source": [
    "personal_info = \"김영준, 010-9347-9999 서울시\"\n",
    "splited_info = personal_info.split(' ')"
   ]
  },
  {
   "cell_type": "code",
   "execution_count": null,
   "metadata": {
    "collapsed": true
   },
   "outputs": [],
   "source": [
    "another_string.replace('cheese', 'beef')"
   ]
  },
  {
   "cell_type": "code",
   "execution_count": null,
   "metadata": {
    "collapsed": true
   },
   "outputs": [],
   "source": [
    "#list\n",
    "\n",
    "lang = []\n",
    "lang.append('python')\n",
    "lang.append('java')\n",
    "lang.append('golang') # append는 항상 마지막 자리에 추가한다\n",
    "lang"
   ]
  },
  {
   "cell_type": "code",
   "execution_count": null,
   "metadata": {
    "collapsed": true
   },
   "outputs": [],
   "source": [
    "lang.insert(1,'c')\n",
    "lang"
   ]
  },
  {
   "cell_type": "code",
   "execution_count": null,
   "metadata": {
    "collapsed": true
   },
   "outputs": [],
   "source": [
    "lang.remove('c')\n",
    "lang"
   ]
  },
  {
   "cell_type": "code",
   "execution_count": null,
   "metadata": {
    "collapsed": true
   },
   "outputs": [],
   "source": [
    "java = lang.pop(1) #pop 할 시에 아무 변수에도 저장하지 않으면 요소는 날라가버린다\n",
    "java"
   ]
  },
  {
   "cell_type": "code",
   "execution_count": null,
   "metadata": {
    "collapsed": true
   },
   "outputs": [],
   "source": [
    "numbers = [0, 1, 0, 9, 3, 4, 7, 9, 8, 7, 3]\n",
    "numbers.sort()\n",
    "print(numbers)"
   ]
  },
  {
   "cell_type": "code",
   "execution_count": null,
   "metadata": {
    "collapsed": true
   },
   "outputs": [],
   "source": [
    "numbers.reverse()\n",
    "print(numbers)\n",
    "\n",
    "#numbers[::-1] 인덱스를 호출하는 것일 뿐 리스트 자체는 변경되지 않는다\n",
    "rev_numbers = numbers[::-1]\n",
    "print(rev_numbers)"
   ]
  },
  {
   "cell_type": "code",
   "execution_count": null,
   "metadata": {
    "collapsed": true
   },
   "outputs": [],
   "source": [
    "numbers.index(1) # ()안에 있는 요소의 위치를 출력한다."
   ]
  },
  {
   "cell_type": "code",
   "execution_count": null,
   "metadata": {
    "collapsed": true
   },
   "outputs": [],
   "source": [
    "color = [['black', 'white'],'red', 'blue', 'green'] #리스트 안 요소로 리스트가 들어올 수 있다\n",
    "color = color + ['purple' , 'pink']\n",
    "color.extend(['cyan', 'magenta']) #리스트에서는 extend, 만약 문자열이라면 .append\n",
    "color"
   ]
  },
  {
   "cell_type": "code",
   "execution_count": null,
   "metadata": {
    "collapsed": true
   },
   "outputs": [],
   "source": [
    "#tuple\n",
    "\n",
    "tuple1 = (1,2,3,4)\n",
    "del tuple1[1] #튜플의 요소는 삭제할 수 없다"
   ]
  },
  {
   "cell_type": "code",
   "execution_count": null,
   "metadata": {
    "collapsed": true
   },
   "outputs": [],
   "source": [
    "tuple1[5] = '5' #튜플의 요소는 추가할 수 없다"
   ]
  },
  {
   "cell_type": "code",
   "execution_count": null,
   "metadata": {
    "collapsed": true
   },
   "outputs": [],
   "source": [
    "tuple2 =(5,6)\n",
    "tuple1 + tuple2 #튜플 끼리 더하기는 가능하다"
   ]
  },
  {
   "cell_type": "code",
   "execution_count": null,
   "metadata": {
    "collapsed": true
   },
   "outputs": [],
   "source": [
    "print(3 * tuple2) #튜플을 반복하는 것도 가능하다"
   ]
  },
  {
   "cell_type": "code",
   "execution_count": null,
   "metadata": {
    "collapsed": true
   },
   "outputs": [],
   "source": [
    "x = 1\n",
    "y = 99"
   ]
  },
  {
   "cell_type": "code",
   "execution_count": null,
   "metadata": {
    "collapsed": true
   },
   "outputs": [],
   "source": [
    "temp = x\n",
    "print(x, y, temp)"
   ]
  },
  {
   "cell_type": "code",
   "execution_count": null,
   "metadata": {
    "collapsed": true
   },
   "outputs": [],
   "source": [
    "x = y\n",
    "print(x, y, temp)"
   ]
  },
  {
   "cell_type": "code",
   "execution_count": null,
   "metadata": {
    "collapsed": true
   },
   "outputs": [],
   "source": [
    "y = temp\n",
    "print(x, y, temp)"
   ]
  },
  {
   "cell_type": "code",
   "execution_count": null,
   "metadata": {
    "collapsed": true
   },
   "outputs": [],
   "source": [
    "print(x, y)"
   ]
  },
  {
   "cell_type": "code",
   "execution_count": null,
   "metadata": {
    "collapsed": true
   },
   "outputs": [],
   "source": [
    "(x, y) = (y, x)\n",
    "print(x, y)"
   ]
  },
  {
   "cell_type": "code",
   "execution_count": null,
   "metadata": {
    "collapsed": true
   },
   "outputs": [],
   "source": [
    "#conditions \n",
    "\n",
    "age = 19\n",
    "\n",
    "if age < 19: #조건문을 쓸 때에는 가장 빈번한 조건을 가장 위에 놓는다\n",
    "    print(\"you are teenager\")\n",
    "elif age > 19:\n",
    "    print(\"I envy you\")\n",
    "else:\n",
    "    print(\"we are just friend\")\n",
    "    "
   ]
  },
  {
   "cell_type": "code",
   "execution_count": null,
   "metadata": {
    "collapsed": true
   },
   "outputs": [],
   "source": [
    "#numguess\n",
    "import random\n",
    "\n",
    "\n",
    "#choose the answer randomly\n",
    "answer = random.randint(1,100)\n",
    "print(answer)\n",
    "\n",
    "#get user input\n",
    "user_name = input(\"Hi, What is your name? \")\n",
    "guess = eval(input(\"Hi, %s. Plz guess the INTEGER!!! \" % (user_name)))\n",
    "\n",
    "#out put\n",
    "if answer == guess:\n",
    "    print(\"You are amazing\")\n",
    "else:\n",
    "    print(\"I'm sorry \")"
   ]
  },
  {
   "cell_type": "code",
   "execution_count": null,
   "metadata": {
    "collapsed": true
   },
   "outputs": [],
   "source": [
    "for lan in ['python', 'java', 'c', 'golang']:\n",
    "    print(lan)"
   ]
  },
  {
   "cell_type": "code",
   "execution_count": 12,
   "metadata": {},
   "outputs": [
    {
     "name": "stdout",
     "output_type": "stream",
     "text": [
      "55\n"
     ]
    }
   ],
   "source": [
    "sum = 0\n",
    "for i in range(1,10+1):\n",
    "    sum = sum + i # same as , sum += i\n",
    "    #print(sum) < 이러한 함수는 주로 디버깅 할 때 쓴다\n",
    "    \n",
    "print(sum)"
   ]
  },
  {
   "cell_type": "code",
   "execution_count": null,
   "metadata": {
    "collapsed": true
   },
   "outputs": [],
   "source": [
    "name = \"\"\n",
    "while name != \"break\":\n",
    "    name = input(\"What is your name? \")\n",
    "    print(\"Hello, \" + name + \" where is break?\")"
   ]
  },
  {
   "cell_type": "code",
   "execution_count": 3,
   "metadata": {},
   "outputs": [
    {
     "name": "stdout",
     "output_type": "stream",
     "text": [
      "1\n",
      "2\n",
      "fizz\n",
      "4\n",
      "buzz\n",
      "fizz\n",
      "7\n",
      "8\n",
      "fizz\n",
      "buzz\n",
      "11\n",
      "fizz\n",
      "13\n",
      "14\n",
      "fizzbuzz\n",
      "16\n",
      "17\n",
      "fizz\n",
      "19\n",
      "buzz\n",
      "fizz\n",
      "22\n",
      "23\n",
      "fizz\n",
      "buzz\n",
      "26\n",
      "fizz\n",
      "28\n",
      "29\n",
      "fizzbuzz\n",
      "31\n",
      "32\n",
      "fizz\n",
      "34\n",
      "buzz\n",
      "fizz\n",
      "37\n",
      "38\n",
      "fizz\n",
      "buzz\n",
      "41\n",
      "fizz\n",
      "43\n",
      "44\n",
      "fizzbuzz\n",
      "46\n",
      "47\n",
      "fizz\n",
      "49\n",
      "buzz\n",
      "fizz\n",
      "52\n",
      "53\n",
      "fizz\n",
      "buzz\n",
      "56\n",
      "fizz\n",
      "58\n",
      "59\n",
      "fizzbuzz\n",
      "61\n",
      "62\n",
      "fizz\n",
      "64\n",
      "buzz\n",
      "fizz\n",
      "67\n",
      "68\n",
      "fizz\n",
      "buzz\n",
      "71\n",
      "fizz\n",
      "73\n",
      "74\n",
      "fizzbuzz\n",
      "76\n",
      "77\n",
      "fizz\n",
      "79\n",
      "buzz\n",
      "fizz\n",
      "82\n",
      "83\n",
      "fizz\n",
      "buzz\n",
      "86\n",
      "fizz\n",
      "88\n",
      "89\n",
      "fizzbuzz\n",
      "91\n",
      "92\n",
      "fizz\n",
      "94\n",
      "buzz\n",
      "fizz\n",
      "97\n",
      "98\n",
      "fizz\n",
      "buzz\n"
     ]
    }
   ],
   "source": [
    "#Fizzbuzz\n",
    "\n",
    "for fizzbuzz in range(1,100+1): # 1에서 100까지 차례대로 넣는다.\n",
    "    if fizzbuzz % 15 == 0: # 가장 먼저 확인해야 할 경우의 수\n",
    "        print(\"fizzbuzz\")\n",
    "    elif fizzbuzz % 3 == 0:\n",
    "        print(\"fizz\")\n",
    "    elif fizzbuzz % 5 == 0:\n",
    "        print(\"buzz\")\n",
    "    else:\n",
    "        print(fizzbuzz) # string이 아니라 fizzbuzz변수 그 자체를 출력"
   ]
  },
  {
   "cell_type": "code",
   "execution_count": 2,
   "metadata": {},
   "outputs": [
    {
     "name": "stdout",
     "output_type": "stream",
     "text": [
      "351 649\n"
     ]
    }
   ],
   "source": [
    "# MontyHall Quiz\n",
    "\n",
    "import random\n",
    "\n",
    "stay = 0 #남아있을때 이기는 경우의 수\n",
    "change = 0 #바꿔야 이기는 경우의 수\n",
    "\n",
    "for i in range(1000): # 0 ~ 999까지 천 번 반복한다\n",
    "    #doors = [1,0,0]\n",
    "    #random.shuffle(doors) #doors의 list 순서를 섞는다\n",
    "                          #사실상 위의 두 줄은 필요 없다\n",
    "    choice = random.randrange(3) # 그저 1/3을 정의하기 위한 변수일 뿐\n",
    "    if choice == 1:\n",
    "        stay = stay + 1 # 1/3의 확률에서 1을 골랐으므로 머무는게 낫다\n",
    "    elif choice != 1:\n",
    "        change = change + 1 # 1/3의 확률에서 not 1을 골랐으므로 바꾸는게 낫다\n",
    "print(stay, change)\n",
    "        "
   ]
  },
  {
   "cell_type": "code",
   "execution_count": null,
   "metadata": {
    "collapsed": true
   },
   "outputs": [],
   "source": []
  },
  {
   "cell_type": "code",
   "execution_count": null,
   "metadata": {
    "collapsed": true
   },
   "outputs": [],
   "source": []
  }
 ],
 "metadata": {
  "kernelspec": {
   "display_name": "Python 3",
   "language": "python",
   "name": "python3"
  },
  "language_info": {
   "codemirror_mode": {
    "name": "ipython",
    "version": 3
   },
   "file_extension": ".py",
   "mimetype": "text/x-python",
   "name": "python",
   "nbconvert_exporter": "python",
   "pygments_lexer": "ipython3",
   "version": "3.6.1"
  }
 },
 "nbformat": 4,
 "nbformat_minor": 2
}
