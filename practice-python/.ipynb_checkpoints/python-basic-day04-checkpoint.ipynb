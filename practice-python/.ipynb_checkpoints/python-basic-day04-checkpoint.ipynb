{
 "cells": [
  {
   "cell_type": "code",
   "execution_count": null,
   "metadata": {
    "collapsed": true
   },
   "outputs": [],
   "source": [
    "## awe_some calc\n",
    "def awe_sum(a,b):\n",
    "    result = 0\n",
    "    result = a + b\n",
    "    return result\n",
    "\n",
    "awe_sum(9,10)"
   ]
  },
  {
   "cell_type": "code",
   "execution_count": null,
   "metadata": {
    "collapsed": true
   },
   "outputs": [],
   "source": [
    "## function without input\n",
    "def print_hello():\n",
    "    return \"hello\"\n",
    "\n",
    "print_hello() #괄호가 없으면 파이썬이 변수로 인식한다, 사실 변수에 가까움"
   ]
  },
  {
   "cell_type": "code",
   "execution_count": null,
   "metadata": {
    "collapsed": true
   },
   "outputs": [],
   "source": [
    "## function without return\n",
    "def func_wo_return(a):\n",
    "    print(\"Hello, my name is \"+ str(a)+ \".\")\n",
    "\n",
    "func_wo_return(\"June\")"
   ]
  },
  {
   "cell_type": "code",
   "execution_count": null,
   "metadata": {
    "collapsed": true
   },
   "outputs": [],
   "source": [
    "## multiple return\n",
    "def mul_return(a):\n",
    "    b = 0\n",
    "    b = a + 100\n",
    "    return a, b\n",
    "\n",
    "mul_return(19) # tuple의 형태로 출력된다"
   ]
  },
  {
   "cell_type": "code",
   "execution_count": null,
   "metadata": {
    "collapsed": true
   },
   "outputs": [],
   "source": [
    "## return skill\n",
    "def id_check(id):\n",
    "    if id == \"admin\":\n",
    "        print(\"invalid id: admin\")\n",
    "        return # return을 빼고 한다면?\n",
    "    print(\"valid id:\", id)\n",
    "\n",
    "id_check(\"admin\")"
   ]
  },
  {
   "cell_type": "code",
   "execution_count": null,
   "metadata": {
    "collapsed": true
   },
   "outputs": [],
   "source": [
    "## parameter with initialize\n",
    "def say_hello(name = \"Fool\", Nick = True): ##기본값을 설정해놓는다 입력하지 않으면 기본값\n",
    "    print(\"hi\", name)\n",
    "    if Nick == True:\n",
    "        print(\"But, you are a Fool\")\n",
    "    else:\n",
    "        print(\"Oh, you are not a Fool\")\n",
    "\n",
    "say_hello()"
   ]
  },
  {
   "cell_type": "code",
   "execution_count": null,
   "metadata": {
    "collapsed": true
   },
   "outputs": [],
   "source": [
    "## arguments\n",
    "def mul_sum(*args): # *뒤에 변수가 몇 개 일지 모르겠다는 뜻\n",
    "    result = 0\n",
    "    for i in args: # 입력받은 *args가 리스트의 형태로 들어온다\n",
    "        result = result + i\n",
    "    return result\n",
    "\n",
    "mul_sum(2,45,5,1,)"
   ]
  },
  {
   "cell_type": "code",
   "execution_count": null,
   "metadata": {
    "collapsed": true
   },
   "outputs": [],
   "source": [
    "## keyword arguments\n",
    "def show_kwargs(**kwargs):\n",
    "    print(str(kwargs)) # dict형태인 key/value의 형태로 들어온다\n",
    "    \n",
    "show_kwargs(wallet = 22000, bank = 50000) # Key에는 무조건 문자열, \"\" 붙일 필요 없움"
   ]
  },
  {
   "cell_type": "code",
   "execution_count": null,
   "metadata": {
    "collapsed": true
   },
   "outputs": [],
   "source": [
    "def kwargs_url(server, port, **query):\n",
    "    url = \"http://\" + server + \":\" + port + \"?\"\n",
    "    for key in query.keys(): #위에 **query로 저장된 dict의 key들을 호출\n",
    "        url += key + \"=\" + query[key] + \"&\"\n",
    "    return url\n",
    "\n",
    "kwargs_url(\"www.naver.com\", \"8080\", ie = \"utf-8\", query = \"덩케르크\")"
   ]
  },
  {
   "cell_type": "code",
   "execution_count": null,
   "metadata": {
    "collapsed": true
   },
   "outputs": [],
   "source": [
    "a = \"hello\"\n",
    "def glob_test(a):\n",
    "    a = a + \" world\"\n",
    "    return a\n",
    "\n",
    "print(glob_test(a))\n",
    "print(a)"
   ]
  },
  {
   "cell_type": "code",
   "execution_count": null,
   "metadata": {
    "collapsed": true
   },
   "outputs": [],
   "source": [
    "a = \"hello\"\n",
    "def glob_test(x): # 함수 안의 변수는 함수 안에서만 돌아간다\n",
    "    x = x + \" world\"\n",
    "    return x\n",
    "\n",
    "print(glob_test(a))\n",
    "print(a)"
   ]
  },
  {
   "cell_type": "code",
   "execution_count": null,
   "metadata": {
    "collapsed": true
   },
   "outputs": [],
   "source": [
    "## So, how to globalize - (1) using return\n",
    "\n",
    "a = input(\"hello? where are you? \")\n",
    "def glob_test(a):\n",
    "    a = a + \" world\"\n",
    "    return a\n",
    "\n",
    "a = glob_test(a)\n",
    "print(a)"
   ]
  },
  {
   "cell_type": "code",
   "execution_count": null,
   "metadata": {
    "collapsed": true
   },
   "outputs": [],
   "source": [
    "# Recursive\n",
    "\n",
    "times = int(input(\"How many times want to curse the beast?? \"))\n",
    "def recurse_beast(a):\n",
    "    if a == 0:\n",
    "        print(\"curse comlpete! \")\n",
    "    else:\n",
    "        print(\"Fusion!! (%d times left)\" % (a-1))\n",
    "        recurse_beast(a-1)\n",
    "\n",
    "recurse_beast(times)"
   ]
  },
  {
   "cell_type": "code",
   "execution_count": null,
   "metadata": {
    "collapsed": true
   },
   "outputs": [],
   "source": [
    "# File I/O\n",
    "\n",
    "f = open(filename, mode) # r-읽기 모드 / w-쓰기 모드 / a-추가 모드\n",
    "f.close()"
   ]
  },
  {
   "cell_type": "code",
   "execution_count": null,
   "metadata": {
    "collapsed": true
   },
   "outputs": [],
   "source": [
    "# Creat New File\n",
    "f = open(\"Newfile.txt\", 'w')\n",
    "f.close()"
   ]
  },
  {
   "cell_type": "code",
   "execution_count": 5,
   "metadata": {
    "collapsed": true
   },
   "outputs": [],
   "source": [
    "# write text\n",
    "f = open(\"Newfile.txt\", 'a')\n",
    "for i in range(11,21):\n",
    "    text = \"line %d. \\n\" % i\n",
    "    f.write(text)\n",
    "f.close()"
   ]
  },
  {
   "cell_type": "code",
   "execution_count": null,
   "metadata": {
    "collapsed": true
   },
   "outputs": [],
   "source": [
    "# read text\n",
    "f = open(\"Newfile.txt\", 'r')\n",
    "text = f.readline() #한 줄 읽는 것\n",
    "print(text)\n",
    "f.close()"
   ]
  },
  {
   "cell_type": "code",
   "execution_count": null,
   "metadata": {
    "collapsed": true
   },
   "outputs": [],
   "source": [
    "# read all text\n",
    "f = open(\"Newfile.txt\", 'r')\n",
    "while True:\n",
    "    text = f.readline()\n",
    "    if not text:\n",
    "        break\n",
    "    print(text)\n",
    "f.close()"
   ]
  },
  {
   "cell_type": "code",
   "execution_count": 7,
   "metadata": {
    "collapsed": true
   },
   "outputs": [],
   "source": [
    "f = open(\"Newfile.txt\", 'r')\n",
    "texts = f.readlines()\n",
    "for text in texts:\n",
    "    print(text)\n",
    "f.close()"
   ]
  },
  {
   "cell_type": "code",
   "execution_count": null,
   "metadata": {
    "collapsed": true
   },
   "outputs": [],
   "source": [
    "# ger rid of f.close()\n",
    "with open(\"Newfile.txt\", 'r') as f: # 아래 블록의 process를 수행하고 스스로 닫힘\n",
    "    f.readline() "
   ]
  },
  {
   "cell_type": "code",
   "execution_count": null,
   "metadata": {
    "collapsed": true
   },
   "outputs": [],
   "source": [
    "# Error Handle - syntax\n",
    "try:\n",
    "    pass\n",
    "except:\n",
    "    pass"
   ]
  },
  {
   "cell_type": "code",
   "execution_count": 12,
   "metadata": {},
   "outputs": [
    {
     "name": "stdout",
     "output_type": "stream",
     "text": [
      "type the number: dd\n",
      "I said type some number\n",
      "invalid literal for int() with base 10: 'dd'\n"
     ]
    }
   ],
   "source": [
    "#error handle\n",
    "try:\n",
    "    some_input = int(input(\"type the number: \"))\n",
    "except ValueError as e:\n",
    "    print(\"I said type some number\")\n",
    "    print(e)"
   ]
  },
  {
   "cell_type": "code",
   "execution_count": null,
   "metadata": {
    "collapsed": true
   },
   "outputs": [],
   "source": [
    "try:\n",
    "    f = open('error_example.txt', 'r')\n",
    "except FileNotFoundError as e:\n",
    "    print(e)\n",
    "else: # try가 성공적으로 실행되었을 때 아래 process를 실행한다.\n",
    "    text = f.read()\n",
    "    f.close"
   ]
  }
 ],
 "metadata": {
  "kernelspec": {
   "display_name": "Python 3",
   "language": "python",
   "name": "python3"
  },
  "language_info": {
   "codemirror_mode": {
    "name": "ipython",
    "version": 3
   },
   "file_extension": ".py",
   "mimetype": "text/x-python",
   "name": "python",
   "nbconvert_exporter": "python",
   "pygments_lexer": "ipython3",
   "version": "3.6.1"
  }
 },
 "nbformat": 4,
 "nbformat_minor": 2
}
