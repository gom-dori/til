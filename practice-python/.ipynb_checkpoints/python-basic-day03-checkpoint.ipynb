{
 "cells": [
  {
   "cell_type": "code",
   "execution_count": null,
   "metadata": {},
   "outputs": [],
   "source": [
    "#Ethiopian Multiplication\n",
    "\n",
    "numbers = str(input(\"two nums with space: \")).split() #스플릿 안에 아무것도 없으면 공백을 기준으로 자른다\n",
    "\n",
    "result = 0\n",
    "num1 = int(numbers[0]) #나누고 곱할때 0.0000000003 같은 오류가 있기 때문에 정수로 바꾼다. \n",
    "num2 = int(numbers[1])\n",
    "\n",
    "while num1 >= 1:\n",
    "    if num1 % 2 == 0:\n",
    "        print(\"%4d %5d struck\" % (num1, num2))\n",
    "    else:\n",
    "        print(\"%4d %5d keep\" % (num1, num2))\n",
    "        result = result + num2\n",
    "        \n",
    "    num1 = num1 // 2\n",
    "    num2 = num2 * 2\n",
    "\n",
    "print(\"the result is\", result)"
   ]
  },
  {
   "cell_type": "code",
   "execution_count": null,
   "metadata": {
    "collapsed": true
   },
   "outputs": [],
   "source": [
    "#tuple split\n",
    "\n",
    "facamp = 'fastcampus'\n",
    "tuple_facamp = tuple(\".\".join(facamp).split(\".\"))\n",
    "print(tuple_facamp)"
   ]
  },
  {
   "cell_type": "code",
   "execution_count": null,
   "metadata": {},
   "outputs": [],
   "source": [
    "#dictionary practice\n",
    "\n",
    "dict1 = {}\n",
    "dict1 = {\n",
    "    'english':100,\n",
    "    'geography':40,\n",
    "    'science':[20,40,40], # value에선 data type을 가리지 않는다\n",
    "}\n",
    "dict1['korean'] = 100 # 순서 바뀌면 큰일난다\n",
    "\n",
    "del dict1['english'] # key와 value 모두 지워진다 # key만 존재할수도, value만 존재할수도 없기 때문.\n",
    "                     # 보통 미입력값이 들어가야할 경우 null과 같은것을 지정해 후처리한다.\n",
    "print(dict1)\n",
    "print(dict1['korean'])\n",
    "print(dict1.keys())\n",
    "print(dict1.values())\n",
    "print(dict1.items()) # tuple 상태로 나오게 된다. "
   ]
  },
  {
   "cell_type": "code",
   "execution_count": null,
   "metadata": {},
   "outputs": [],
   "source": [
    "#set practice\n",
    "\n",
    "ppap = {'apple','pineapple','apple','pen'} # 중복 X 순서 X\n",
    "'apple'in ppap\n",
    "'applepen' in ppap\n",
    "\n",
    "pineapple = set('pineapple')\n",
    "print(pineapple)"
   ]
  },
  {
   "cell_type": "code",
   "execution_count": null,
   "metadata": {},
   "outputs": [],
   "source": [
    "#set practice 2\n",
    "\n",
    "fast = set('fastcampus')\n",
    "pyy = set('python')\n",
    "\n",
    "print(fast)\n",
    "print(pyy)\n",
    "print(fast & pyy)\n",
    "print(fast | pyy)\n",
    "print(fast - pyy)\n",
    "print(fast ^ pyy)"
   ]
  },
  {
   "cell_type": "code",
   "execution_count": null,
   "metadata": {},
   "outputs": [],
   "source": [
    "#list comp\n",
    "\n",
    "old_list = [1,2,3,4,5,]\n",
    "doubled_list = []\n",
    "for i in old_list:\n",
    "    doubled_list.append(i * 2)\n",
    "    \n",
    "print(doubled_list)"
   ]
  },
  {
   "cell_type": "code",
   "execution_count": null,
   "metadata": {},
   "outputs": [],
   "source": [
    "#list comp 2\n",
    "\n",
    "old_list = [3,6,9,12,15,]\n",
    "doubled_list = [i * 2 for i in old_list] # 1.원하는 프로세스 2.반복문\n",
    "print(doubled_list)"
   ]
  },
  {
   "cell_type": "code",
   "execution_count": 18,
   "metadata": {},
   "outputs": [
    {
     "name": "stdout",
     "output_type": "stream",
     "text": [
      "[2, 4]\n"
     ]
    }
   ],
   "source": [
    "#list comp 3\n",
    "\n",
    "old_list = [1,2,3,4,5,]\n",
    "doubled_list = [i for i in old_list if i % 2 == 0]\n",
    "#doubled_list = [i for i in old_list]\n",
    "\n",
    "print(doubled_list)"
   ]
  },
  {
   "cell_type": "code",
   "execution_count": null,
   "metadata": {},
   "outputs": [],
   "source": [
    "for fizzbuzz in range(1,100+1): # 1에서 100까지 차례대로 넣는다.\n",
    "    if fizzbuzz % 15 == 0: # 가장 먼저 확인해야 할 경우의 수\n",
    "        print(\"fizzbuzz\")\n",
    "    elif fizzbuzz % 3 == 0:\n",
    "        print(\"fizz\")\n",
    "    elif fizzbuzz % 5 == 0:\n",
    "        print(\"buzz\")\n",
    "    else:\n",
    "        print(fizzbuzz) # string이 아니라 fizzbuzz변수 그 자체를 출력"
   ]
  },
  {
   "cell_type": "code",
   "execution_count": 29,
   "metadata": {},
   "outputs": [
    {
     "data": {
      "text/plain": [
       "[1,\n",
       " 2,\n",
       " 'Fizz',\n",
       " 4,\n",
       " 'Buzz',\n",
       " 'Fizz',\n",
       " 7,\n",
       " 8,\n",
       " 'Fizz',\n",
       " 'Buzz',\n",
       " 11,\n",
       " 'Fizz',\n",
       " 13,\n",
       " 14,\n",
       " 'FizzBuzz',\n",
       " 16,\n",
       " 17,\n",
       " 'Fizz',\n",
       " 19,\n",
       " 'Buzz',\n",
       " 'Fizz',\n",
       " 22,\n",
       " 23,\n",
       " 'Fizz',\n",
       " 'Buzz',\n",
       " 26,\n",
       " 'Fizz',\n",
       " 28,\n",
       " 29,\n",
       " 'FizzBuzz',\n",
       " 31,\n",
       " 32,\n",
       " 'Fizz',\n",
       " 34,\n",
       " 'Buzz',\n",
       " 'Fizz',\n",
       " 37,\n",
       " 38,\n",
       " 'Fizz',\n",
       " 'Buzz',\n",
       " 41,\n",
       " 'Fizz',\n",
       " 43,\n",
       " 44,\n",
       " 'FizzBuzz',\n",
       " 46,\n",
       " 47,\n",
       " 'Fizz',\n",
       " 49,\n",
       " 'Buzz',\n",
       " 'Fizz',\n",
       " 52,\n",
       " 53,\n",
       " 'Fizz',\n",
       " 'Buzz',\n",
       " 56,\n",
       " 'Fizz',\n",
       " 58,\n",
       " 59,\n",
       " 'FizzBuzz',\n",
       " 61,\n",
       " 62,\n",
       " 'Fizz',\n",
       " 64,\n",
       " 'Buzz',\n",
       " 'Fizz',\n",
       " 67,\n",
       " 68,\n",
       " 'Fizz',\n",
       " 'Buzz',\n",
       " 71,\n",
       " 'Fizz',\n",
       " 73,\n",
       " 74,\n",
       " 'FizzBuzz',\n",
       " 76,\n",
       " 77,\n",
       " 'Fizz',\n",
       " 79,\n",
       " 'Buzz',\n",
       " 'Fizz',\n",
       " 82,\n",
       " 83,\n",
       " 'Fizz',\n",
       " 'Buzz',\n",
       " 86,\n",
       " 'Fizz',\n",
       " 88,\n",
       " 89,\n",
       " 'FizzBuzz',\n",
       " 91,\n",
       " 92,\n",
       " 'Fizz',\n",
       " 94,\n",
       " 'Buzz',\n",
       " 'Fizz',\n",
       " 97,\n",
       " 98,\n",
       " 'Fizz',\n",
       " 'Buzz']"
      ]
     },
     "execution_count": 29,
     "metadata": {},
     "output_type": "execute_result"
    }
   ],
   "source": [
    "nums = list(range(1,100+1))\n",
    "fizzbuzz = [\"Fizz\"* (i % 3 == 0) + \"Buzz\" * (i % 5 == 0) or i for i in nums] # or i \n",
    "# fizzbuzz = [\"Fizz\"* (i % 3 == 0) + \"Buzz\" * (i % 5 == 0) and i for i in nums] # 앞이 true일 때만 i 출력 \n",
    "fizzbuzz"
   ]
  },
  {
   "cell_type": "code",
   "execution_count": null,
   "metadata": {
    "collapsed": true
   },
   "outputs": [],
   "source": []
  }
 ],
 "metadata": {
  "kernelspec": {
   "display_name": "Python 3",
   "language": "python",
   "name": "python3"
  },
  "language_info": {
   "codemirror_mode": {
    "name": "ipython",
    "version": 3
   },
   "file_extension": ".py",
   "mimetype": "text/x-python",
   "name": "python",
   "nbconvert_exporter": "python",
   "pygments_lexer": "ipython3",
   "version": "3.6.1"
  }
 },
 "nbformat": 4,
 "nbformat_minor": 2
}
