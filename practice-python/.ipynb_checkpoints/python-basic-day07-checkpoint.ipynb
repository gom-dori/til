{
 "cells": [
  {
   "cell_type": "code",
   "execution_count": 1,
   "metadata": {
    "collapsed": true
   },
   "outputs": [],
   "source": [
    "#stackframe\n",
    "\n",
    "def func(a, b=5):\n",
    "    return a + b"
   ]
  },
  {
   "cell_type": "code",
   "execution_count": 2,
   "metadata": {},
   "outputs": [
    {
     "data": {
      "text/plain": [
       "7"
      ]
     },
     "execution_count": 2,
     "metadata": {},
     "output_type": "execute_result"
    }
   ],
   "source": [
    "func(3, 4)"
   ]
  },
  {
   "cell_type": "code",
   "execution_count": 3,
   "metadata": {},
   "outputs": [
    {
     "data": {
      "text/plain": [
       "8"
      ]
     },
     "execution_count": 3,
     "metadata": {},
     "output_type": "execute_result"
    }
   ],
   "source": [
    "func(3)"
   ]
  },
  {
   "cell_type": "code",
   "execution_count": 4,
   "metadata": {},
   "outputs": [
    {
     "ename": "SyntaxError",
     "evalue": "non-default argument follows default argument (<ipython-input-4-13f80b8bfafd>, line 1)",
     "output_type": "error",
     "traceback": [
      "\u001b[1;36m  File \u001b[1;32m\"<ipython-input-4-13f80b8bfafd>\"\u001b[1;36m, line \u001b[1;32m1\u001b[0m\n\u001b[1;33m    def func2(a = 3, b):\u001b[0m\n\u001b[1;37m             ^\u001b[0m\n\u001b[1;31mSyntaxError\u001b[0m\u001b[1;31m:\u001b[0m non-default argument follows default argument\n"
     ]
    }
   ],
   "source": [
    "def func2(a = 3, b):\n",
    "    return a + b #default 값은 stackframe 뒤 부터 채워지기 때문에 error"
   ]
  },
  {
   "cell_type": "code",
   "execution_count": 7,
   "metadata": {},
   "outputs": [
    {
     "name": "stdout",
     "output_type": "stream",
     "text": [
      "<function change_value at 0x0515C4F8>\n",
      "x : 20 in cahnge_value\n",
      "x : 10 in cahnge_value\n"
     ]
    }
   ],
   "source": [
    "#stackframe of python\n",
    "#call by object reference (call by assignment)\n",
    "\n",
    "def change_value(x, value):\n",
    "    x = value\n",
    "    print (\"x : {} in cahnge_value\".format(x))\n",
    "\n",
    "print(change_value)\n",
    "\n",
    "x = 10\n",
    "change_value(x, 20)\n",
    "print (\"x : {} in cahnge_value\".format(x))"
   ]
  },
  {
   "cell_type": "code",
   "execution_count": 8,
   "metadata": {},
   "outputs": [
    {
     "name": "stdout",
     "output_type": "stream",
     "text": [
      "[\"I'm your father\", 2, 3, 4]\n",
      "[\"I'm your father\", 2, 3, 4]\n"
     ]
    }
   ],
   "source": [
    "#python == call by value?\n",
    "\n",
    "def change_value(li, idx, value):\n",
    "    li[idx] = value\n",
    "    print(li)\n",
    "\n",
    "li = [1,2,3,4,]\n",
    "change_value(li, 0, \"I'm your father\")\n",
    "print(li)\n"
   ]
  },
  {
   "cell_type": "code",
   "execution_count": 11,
   "metadata": {},
   "outputs": [
    {
     "name": "stdout",
     "output_type": "stream",
     "text": [
      "[\"I'm your father\", 2, 3, 4]\n",
      "[1, 2, 3, 4]\n"
     ]
    }
   ],
   "source": [
    "# python == call by reference nor call by value\n",
    "# is all mutable can change?\n",
    "\n",
    "def change_value(li):\n",
    "    li = [\"I'm your father\", 2, 3, 4]\n",
    "    print(li)\n",
    "\n",
    "li = [1,2,3,4,]\n",
    "change_value(li)\n",
    "print(li)\n",
    "\n",
    "# 함수 내에서 새로운 메모리를 할당 하느냐 하지 않느냐의 차이. immutable or mutable"
   ]
  },
  {
   "cell_type": "code",
   "execution_count": 12,
   "metadata": {
    "collapsed": true
   },
   "outputs": [],
   "source": [
    "def change_value(s):\n",
    "    s = \"abcde\"\n",
    "\n",
    "s = \"zzzzz\"\n",
    "change_value(s)"
   ]
  },
  {
   "cell_type": "code",
   "execution_count": 13,
   "metadata": {
    "collapsed": true
   },
   "outputs": [],
   "source": [
    "# reference count\n",
    "import sys"
   ]
  },
  {
   "cell_type": "code",
   "execution_count": 14,
   "metadata": {
    "collapsed": true
   },
   "outputs": [],
   "source": [
    "s = \"I'm your father\""
   ]
  },
  {
   "cell_type": "code",
   "execution_count": 17,
   "metadata": {},
   "outputs": [
    {
     "data": {
      "text/plain": [
       "2"
      ]
     },
     "execution_count": 17,
     "metadata": {},
     "output_type": "execute_result"
    }
   ],
   "source": [
    "sys.getrefcount(s)"
   ]
  },
  {
   "cell_type": "code",
   "execution_count": 18,
   "metadata": {},
   "outputs": [
    {
     "data": {
      "text/plain": [
       "3"
      ]
     },
     "execution_count": 18,
     "metadata": {},
     "output_type": "execute_result"
    }
   ],
   "source": [
    "b = s\n",
    "sys.getrefcount(s)"
   ]
  },
  {
   "cell_type": "code",
   "execution_count": 19,
   "metadata": {},
   "outputs": [
    {
     "data": {
      "text/plain": [
       "2183"
      ]
     },
     "execution_count": 19,
     "metadata": {},
     "output_type": "execute_result"
    }
   ],
   "source": [
    "a = 1\n",
    "sys.getrefcount(a)\n",
    "\n",
    "# 객체를 만들고 지우는 것은 많은 리소스를 만들어 놓는다.\n",
    "# 그래서 a,1과 같은것은 미리 많이 많들어놓는다. (object tree)"
   ]
  },
  {
   "cell_type": "code",
   "execution_count": 37,
   "metadata": {},
   "outputs": [
    {
     "name": "stdout",
     "output_type": "stream",
     "text": [
      "[10, 2, 3, 4]\n"
     ]
    }
   ],
   "source": [
    "# mutable \n",
    "def func(li):\n",
    "    li[0] = 10 # 접근해서 바꾼다.\n",
    "    print(li)\n",
    "\n",
    "li = [1, 2, 3, 4]\n",
    "func(li)"
   ]
  },
  {
   "cell_type": "code",
   "execution_count": 36,
   "metadata": {},
   "outputs": [
    {
     "name": "stdout",
     "output_type": "stream",
     "text": [
      "[1, 2, 3, 4]\n"
     ]
    }
   ],
   "source": [
    "def func(a):\n",
    "    a = [10, 1, 2, 3,] # 새로운 메모리로 할당한다.\n",
    "    print(li)\n",
    "\n",
    "li = [1, 2, 3, 4]\n",
    "func(li)"
   ]
  },
  {
   "cell_type": "code",
   "execution_count": 47,
   "metadata": {},
   "outputs": [
    {
     "name": "stdout",
     "output_type": "stream",
     "text": [
      "20\n",
      "10\n"
     ]
    }
   ],
   "source": [
    "#immutable\n",
    "\n",
    "def aa(x):\n",
    "    x = 20\n",
    "    print (x)\n",
    "\n",
    "x = 10\n",
    "aa(x)\n",
    "print (x)"
   ]
  },
  {
   "cell_type": "code",
   "execution_count": 44,
   "metadata": {},
   "outputs": [
    {
     "name": "stdout",
     "output_type": "stream",
     "text": [
      "abc\n"
     ]
    }
   ],
   "source": [
    "#return\n",
    "\n",
    "def change_val(x):\n",
    "    x = \"abc\"\n",
    "    return x\n",
    "\n",
    "x = \"aaa\"\n",
    "x = change_val(x)\n",
    "print(x)"
   ]
  },
  {
   "cell_type": "code",
   "execution_count": 50,
   "metadata": {},
   "outputs": [
    {
     "name": "stdout",
     "output_type": "stream",
     "text": [
      "10 250 7498\n"
     ]
    }
   ],
   "source": [
    "# decimal, hexdecimal, binary\n",
    "a = 10 #hex(a) bin(a)\n",
    "b = 0xfa\n",
    "c = 0b1110101001010\n",
    "print (a,b,c)"
   ]
  },
  {
   "cell_type": "code",
   "execution_count": 54,
   "metadata": {},
   "outputs": [
    {
     "data": {
      "text/plain": [
       "'0x77fc5c60'"
      ]
     },
     "execution_count": 54,
     "metadata": {},
     "output_type": "execute_result"
    }
   ],
   "source": [
    "test = 88\n",
    "hex(id(test)"
   ]
  },
  {
   "cell_type": "code",
   "execution_count": null,
   "metadata": {
    "collapsed": true
   },
   "outputs": [],
   "source": []
  }
 ],
 "metadata": {
  "kernelspec": {
   "display_name": "Python 3",
   "language": "python",
   "name": "python3"
  },
  "language_info": {
   "codemirror_mode": {
    "name": "ipython",
    "version": 3
   },
   "file_extension": ".py",
   "mimetype": "text/x-python",
   "name": "python",
   "nbconvert_exporter": "python",
   "pygments_lexer": "ipython3",
   "version": "3.6.1"
  }
 },
 "nbformat": 4,
 "nbformat_minor": 2
}
